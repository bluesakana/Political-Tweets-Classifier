{
 "cells": [
  {
   "cell_type": "markdown",
   "id": "77c8b977-291d-4a82-8357-a1c825e66589",
   "metadata": {},
   "source": [
    "<img src=\"../images/GA-logo.png\" style=\"float: left; margin: 20px; height: 55px\">\n",
    "\n",
    "# Project 3: Web APIs and NLP"
   ]
  },
  {
   "cell_type": "markdown",
   "id": "5a004f87-2084-4a82-8d7c-64ff47ceba13",
   "metadata": {},
   "source": [
    "**Primary Objectives:**\n",
    "\n",
    "1. Scrape tweets from two Twitter accounts\n",
    "2. Use NLP to train a classifier to predict the account a given tweet comes from (i.e. binary classification)\n"
   ]
  },
  {
   "cell_type": "markdown",
   "id": "09a09a7c-4e46-4656-979f-4d8f08060254",
   "metadata": {},
   "source": [
    "----\n",
    "\n",
    "## Problem Statement\n",
    "\n",
    "If given an unlabelled tweet, are we able to discern from the Twitter accounts of 2 political parties the tweet is from? What are the factors that best differentiate the 2 political parties' tweets?\n",
    "\n",
    "Political analysts frequently need to dissect and analyse the different stances that political parties take for similar issues. Such findings will be useful for political analysts by supplementing their qualitative analysis with quantitative analysis.\n",
    "\n",
    "We will build a NLP binary classifier with explanatory and predictive power to attempt to predict whether a given tweet comes from 2 of Singapore's political parties, namely the @PAPSingapore and the @WPSG."
   ]
  },
  {
   "cell_type": "markdown",
   "id": "85cae58a-3d2a-432e-9a37-85d5c1492ded",
   "metadata": {},
   "source": [
    "----\n",
    "\n",
    "## Background & External Research\n",
    "\n",
    "Political parties tend to talk about similar things, e.g., government policy, national security etc. Based on personal experience, anecdotal evidence and ChatGPT3, the tweets from different political parties (loosely based on those in the U.S.) can differ by a few key aspects despite being similar in content, namely:\n",
    "- **Messaging** - messaging usually reflects the party's ideology, values and priorities. For instance, conservative parties may emphasise on lower taxes, greater individual freedom and smaller government (e.g., Republicans in the U.S.) while liberal parties may emphasise on social justice, government intervention (e.g., Democrats in the U.S.). The type of messaging can also be proxied by the hashtags commonly used by the account\n",
    "- **Tone** - this can range from aggressive to conciliatory even if the content is similar (e.g., talking about the same topic), depending on the party's political objective\n",
    "- **Content Type** - Depending on the target audience, political parties may use different types of content that resonate better with the intended target audience. For example, political parties that tend to target younger voters may use more trendy language and memes.\n",
    "- **Frequency** - some political parties may tweet more often if the majority of voters are on Twitter. We will not use this in our classifier as frequency is not a valid characteristic of an individual tweet as defined in this problem statement.\n",
    "- **Level of Engagement** - some political parties may more readily engage their followers by replying to comments, mentioning users or retweeting to amplify messages from supporters.\n",
    "\n",
    "These key aspects may be present in the tweets of Singapore's political parties as well, albeit to different extents compared to the U.S. As such, we may be able to differentiate the tweets from different political parties by looking at these aspects of their tweets.\n",
    "\n",
    "In testing this hypothesis, we choose Singapore's 2 largest political parties (based on number of seats in Parliament), and examine their tweets. These are:\n",
    "|  |  |\n",
    "|-------------|--------------|\n",
    "| <div style=\"text-align:center;\"><img src=\"../images/twitter_pap.jpg\" alt=\"PAP Logo\" width=\"150\" height=\"150\" style=\"display: block; margin: 0 auto;\"><br>**People's Action Party (PAP)**<br>[@PAPSingapore](https://twitter.com/PAPSingapore)</div> | <div style=\"text-align:center;\"><img src=\"../images/twitter_wp.jpg\" alt=\"WP Logo\" width=\"150\" height=\"150\" style=\"display: block; margin: 0 auto;\"><br>**The Workers' Party (WP)**<br>[@WPSG](https://twitter.com/wpsg?lang=en)</div> |\n"
   ]
  },
  {
   "cell_type": "markdown",
   "id": "fb8beeaa-6e20-4e2e-a641-7c52d2b25245",
   "metadata": {},
   "source": [
    "----\n",
    "\n",
    "## Data Scraping"
   ]
  },
  {
   "cell_type": "markdown",
   "id": "305a63d8-af96-473b-b0d1-f9cb477f0733",
   "metadata": {},
   "source": [
    "There are many tools to scrape Twitter, but for ease of implementation, we use the [SNScrape](https://github.com/JustAnotherArchivist/snscrape) package to scrape the tweets from these 2 accounts. Information on using SNScrape to scrape Twitter can be found [here](https://datasciencedojo.com/blog/scrape-twitter-data-using-snscrape/).\n",
    "\n",
    "We also scrape a time period that is common for both accounts (i.e. 1 Jan 2010 to 31 Dec 2022) so that there is no time difference bias."
   ]
  },
  {
   "cell_type": "code",
   "execution_count": 2,
   "id": "f6a36fc0-d2c7-436b-9dd6-5cc49bfa3c9d",
   "metadata": {},
   "outputs": [],
   "source": [
    "import snscrape.modules.twitter as sntwitter\n",
    "import numpy as np\n",
    "import pandas as pd\n",
    "\n",
    "from data_cleaning import get_query, scrape_tweets"
   ]
  },
  {
   "cell_type": "code",
   "execution_count": 2,
   "id": "ffa58eff-899a-4898-b173-baaf46ba41ad",
   "metadata": {},
   "outputs": [],
   "source": [
    "# define account names to scrape\n",
    "account_pap = 'PAPSingapore'\n",
    "account_wp = 'WPSG'\n",
    "\n",
    "# define time period to scrape\n",
    "since = '2010-01-01'\n",
    "until = '2022-12-31'"
   ]
  },
  {
   "cell_type": "code",
   "execution_count": 3,
   "id": "d2098022-18dc-46ff-8cf6-0706bf55ed58",
   "metadata": {},
   "outputs": [
    {
     "name": "stdout",
     "output_type": "stream",
     "text": [
      "Starting scrape of Twitter account PAPSingapore...\n",
      "Scraped a total of 2762 tweets.\n",
      "CPU times: total: 781 ms\n",
      "Wall time: 2min 11s\n"
     ]
    }
   ],
   "source": [
    "%%time\n",
    "# Scraping PAPSingapore Twitter account\n",
    "### RUN THIS ONLY IF YOU INTEND TO SCRAPE, THE PROCESS CAN TAKE A FEW MINUTES\n",
    "tweets_pap_raw = scrape_tweets(account_pap, since, until)"
   ]
  },
  {
   "cell_type": "code",
   "execution_count": 4,
   "id": "41d10783-e295-44a7-b448-de3dd743d040",
   "metadata": {},
   "outputs": [
    {
     "name": "stdout",
     "output_type": "stream",
     "text": [
      "Starting scrape of Twitter account WPSG...\n",
      "Scraped a total of 2654 tweets.\n",
      "CPU times: total: 766 ms\n",
      "Wall time: 1min 59s\n"
     ]
    }
   ],
   "source": [
    "%%time\n",
    "# Scraping WPSG Twitter account\n",
    "### RUN THIS ONLY IF YOU INTEND TO SCRAPE, THE PROCESS CAN TAKE A FEW MINUTES\n",
    "tweets_wp_raw = scrape_tweets(account_wp, since, until)"
   ]
  },
  {
   "cell_type": "markdown",
   "id": "18f138e6-8390-4865-9030-bc4c6cbf6d08",
   "metadata": {},
   "source": [
    "### Export Raw Data"
   ]
  },
  {
   "cell_type": "code",
   "execution_count": 5,
   "id": "e957a462-bf1a-4d3b-967f-5374c857c3d1",
   "metadata": {},
   "outputs": [],
   "source": [
    "tweets_pap_raw.to_csv('../datasets/tweets_pap_raw.csv')"
   ]
  },
  {
   "cell_type": "code",
   "execution_count": 6,
   "id": "96e1276f-627d-4b0f-9337-30318d9886d8",
   "metadata": {},
   "outputs": [],
   "source": [
    "tweets_wp_raw.to_csv('../datasets/tweets_wp_raw.csv')"
   ]
  }
 ],
 "metadata": {
  "kernelspec": {
   "display_name": "Python [conda env:dsi-sg]",
   "language": "python",
   "name": "conda-env-dsi-sg-py"
  },
  "language_info": {
   "codemirror_mode": {
    "name": "ipython",
    "version": 3
   },
   "file_extension": ".py",
   "mimetype": "text/x-python",
   "name": "python",
   "nbconvert_exporter": "python",
   "pygments_lexer": "ipython3",
   "version": "3.9.13"
  }
 },
 "nbformat": 4,
 "nbformat_minor": 5
}
